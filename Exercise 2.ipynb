{
 "cells": [
  {
   "cell_type": "code",
   "execution_count": 1,
   "id": "e67bf488",
   "metadata": {},
   "outputs": [],
   "source": [
    "import numpy as np"
   ]
  },
  {
   "cell_type": "code",
   "execution_count": 19,
   "id": "3888939c",
   "metadata": {},
   "outputs": [
    {
     "name": "stdin",
     "output_type": "stream",
     "text": [
      "Enter no of row matrix 1: 2\n",
      "Enter no of col matrix 1: 2\n",
      "Enter no of row matrix 2: 2\n",
      "Enter no of col matrix 2: 2\n"
     ]
    }
   ],
   "source": [
    "n1=int(input(\"Enter no of row matrix 1:\"))\n",
    "m1=int(input(\"Enter no of col matrix 1:\"))\n",
    "n2=int(input(\"Enter no of row matrix 2:\"))\n",
    "m2=int(input(\"Enter no of col matrix 2:\"))"
   ]
  },
  {
   "cell_type": "code",
   "execution_count": 20,
   "id": "b22485b9",
   "metadata": {},
   "outputs": [
    {
     "name": "stdout",
     "output_type": "stream",
     "text": [
      "Enter elements of Matrix 1\n"
     ]
    },
    {
     "name": "stdin",
     "output_type": "stream",
     "text": [
      " 1\n",
      " 2\n",
      " 3\n",
      " 4\n"
     ]
    }
   ],
   "source": [
    "print(\"Enter elements of Matrix 1\")\n",
    "A=[int(input()) for i in range(0,m1*n1)]\n",
    "A=np.array(A)\n",
    "A.resize(n1,m1)"
   ]
  },
  {
   "cell_type": "code",
   "execution_count": 21,
   "id": "b58990a3",
   "metadata": {},
   "outputs": [
    {
     "name": "stdout",
     "output_type": "stream",
     "text": [
      "Enter elements of Matrix 2\n"
     ]
    },
    {
     "name": "stdin",
     "output_type": "stream",
     "text": [
      " 1\n",
      " 2\n",
      " 3\n",
      " 4\n"
     ]
    }
   ],
   "source": [
    "print(\"Enter elements of Matrix 2\")\n",
    "B=[int(input()) for i in range(0,m2*n2)]\n",
    "B=np.array(B)\n",
    "B.resize(n2,m2)"
   ]
  },
  {
   "cell_type": "code",
   "execution_count": 23,
   "id": "f7694752",
   "metadata": {},
   "outputs": [
    {
     "name": "stdout",
     "output_type": "stream",
     "text": [
      "[[ 7 10]\n",
      " [15 22]]\n"
     ]
    }
   ],
   "source": [
    "#q1\n",
    "print(np.dot(A,B))\n"
   ]
  },
  {
   "cell_type": "code",
   "execution_count": 25,
   "id": "6a0f0571",
   "metadata": {},
   "outputs": [
    {
     "name": "stdout",
     "output_type": "stream",
     "text": [
      "Transpose of A\n",
      "[[1 3]\n",
      " [2 4]]\n",
      "Transpose of B\n",
      "[[1 3]\n",
      " [2 4]]\n"
     ]
    }
   ],
   "source": [
    "#q2\n",
    "print(\"Transpose of A\")\n",
    "print(A.transpose())\n",
    "\n",
    "print(\"Transpose of B\")\n",
    "print(B.transpose())"
   ]
  },
  {
   "cell_type": "code",
   "execution_count": 27,
   "id": "8f5b5ee5",
   "metadata": {},
   "outputs": [
    {
     "name": "stdout",
     "output_type": "stream",
     "text": [
      "Trace of A\n",
      "5\n",
      "Trace of B\n",
      "5\n"
     ]
    }
   ],
   "source": [
    "#q3\n",
    "print(\"Trace of A\")\n",
    "print(A.trace())\n",
    "\n",
    "print(\"Trace of B\")\n",
    "print(B.trace())"
   ]
  },
  {
   "cell_type": "code",
   "execution_count": 29,
   "id": "a0134eab",
   "metadata": {},
   "outputs": [
    {
     "name": "stdout",
     "output_type": "stream",
     "text": [
      "Trace of A\n",
      "2\n",
      "Trace of B\n",
      "2\n"
     ]
    }
   ],
   "source": [
    "#q4\n",
    "print(\"Rank of A\")\n",
    "print(np.linalg.matrix_rank(A))\n",
    "\n",
    "print(\"Rank of B\")\n",
    "print(np.linalg.matrix_rank(B))"
   ]
  },
  {
   "cell_type": "code",
   "execution_count": 30,
   "id": "72734a69",
   "metadata": {},
   "outputs": [
    {
     "name": "stdout",
     "output_type": "stream",
     "text": [
      "Determinant of A\n",
      "-2.0000000000000004\n",
      "Determinant of B\n",
      "-2.0000000000000004\n"
     ]
    }
   ],
   "source": [
    "#q5\n",
    "print(\"Determinant of A\")\n",
    "print(np.linalg.det(A))\n",
    "\n",
    "print(\"Determinant of B\")\n",
    "print(np.linalg.det(B))"
   ]
  },
  {
   "cell_type": "code",
   "execution_count": 33,
   "id": "938bd95a",
   "metadata": {},
   "outputs": [
    {
     "name": "stdout",
     "output_type": "stream",
     "text": [
      "Inverse of A\n",
      "[[-2.   1. ]\n",
      " [ 1.5 -0.5]]\n",
      "Inverse of B\n",
      "[[-2.   1. ]\n",
      " [ 1.5 -0.5]]\n"
     ]
    }
   ],
   "source": [
    "#q6\n",
    "print(\"Inverse of A\")\n",
    "print(np.linalg.inv(A))\n",
    "\n",
    "print(\"Inverse of B\")\n",
    "print(np.linalg.inv(B))"
   ]
  },
  {
   "cell_type": "code",
   "execution_count": 39,
   "id": "aab8c171",
   "metadata": {},
   "outputs": [
    {
     "name": "stdout",
     "output_type": "stream",
     "text": [
      "Eigenvalues of A\n",
      "[-0.37228132  5.37228132]\n",
      "Eigenvvector of A\n",
      "[[-0.82456484 -0.41597356]\n",
      " [ 0.56576746 -0.90937671]]\n",
      "--------------------\n",
      "Eigenvalues of B\n",
      "[-0.37228132  5.37228132]\n",
      "Eigenvvector of B\n",
      "[[-0.82456484 -0.41597356]\n",
      " [ 0.56576746 -0.90937671]]\n"
     ]
    }
   ],
   "source": [
    "#q7\n",
    "print(\"Eigenvalues of A\")\n",
    "print(np.linalg.eig(A)[0])\n",
    "print(\"Eigenvvector of A\")\n",
    "print(np.linalg.eig(A)[1])\n",
    "print(\"-\"*20)\n",
    "print(\"Eigenvalues of B\")\n",
    "print(np.linalg.eig(B)[0])\n",
    "print(\"Eigenvvector of B\")\n",
    "print(np.linalg.eig(B)[1])"
   ]
  }
 ],
 "metadata": {
  "kernelspec": {
   "display_name": "Python 3",
   "language": "python",
   "name": "python3"
  },
  "language_info": {
   "codemirror_mode": {
    "name": "ipython",
    "version": 3
   },
   "file_extension": ".py",
   "mimetype": "text/x-python",
   "name": "python",
   "nbconvert_exporter": "python",
   "pygments_lexer": "ipython3",
   "version": "3.5.6"
  }
 },
 "nbformat": 4,
 "nbformat_minor": 5
}
